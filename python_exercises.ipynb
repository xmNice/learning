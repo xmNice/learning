{
 "cells": [
  {
   "cell_type": "code",
   "execution_count": 5,
   "metadata": {},
   "outputs": [
    {
     "data": {
      "text/plain": [
       "'Hello World'"
      ]
     },
     "execution_count": 5,
     "metadata": {},
     "output_type": "execute_result"
    }
   ],
   "source": [
    "'''1 Hello World\n",
    "Description\n",
    "Build a function HelloWorld which returns \"Hello World\".\n",
    "Examples\n",
    "HelloWorld( ) return \"Hello World\"'''\n",
    "\n",
    "def HelloWorld():\n",
    "    return \"Hello World\"\n",
    "HelloWorld()"
   ]
  },
  {
   "cell_type": "code",
   "execution_count": 8,
   "metadata": {},
   "outputs": [
    {
     "data": {
      "text/plain": [
       "(True, False)"
      ]
     },
     "execution_count": 8,
     "metadata": {},
     "output_type": "execute_result"
    }
   ],
   "source": [
    "''' 2 Odd Number\n",
    "Description\n",
    "Build a function Odd which takes an integer as input and returns a boolean to tell whether the integer is odd or not.\n",
    "Examples\n",
    "Odd(3) returns True\n",
    "Odd(4) returns False'''\n",
    "\n",
    "def Odd (number):\n",
    "    return (number%2)==1\n",
    "Odd(3),Odd(4)"
   ]
  },
  {
   "cell_type": "code",
   "execution_count": 6,
   "metadata": {},
   "outputs": [
    {
     "data": {
      "text/plain": [
       "0.4536"
      ]
     },
     "execution_count": 6,
     "metadata": {},
     "output_type": "execute_result"
    }
   ],
   "source": [
    "\"\"\" 3 AttributeErrorDescription\n",
    "Build a function LB2KG which takes a value in pound as input and returns the corresponding value in kilogram. One pound equals to 0.4536 kg.\n",
    "Examples\n",
    "LB2KG(1) returns 0.4536\"\"\"\n",
    "\n",
    "def LB2KG(pound):\n",
    "    return pound*0.4536\n",
    "LB2KG(1)"
   ]
  },
  {
   "cell_type": "code",
   "execution_count": 10,
   "metadata": {},
   "outputs": [
    {
     "data": {
      "text/plain": [
       "('FizzBuzz', 'Fizz', 'Buzz', 17)"
      ]
     },
     "execution_count": 10,
     "metadata": {},
     "output_type": "execute_result"
    }
   ],
   "source": [
    "\"\"\"4 FizzBuzz\n",
    "Description\n",
    "Build a function FizzBuzz which takes a positive integer as input. If the number is divisible by 3, the function returns \"Fizz\". If the number is divisible by 5, the function returns \"Buzz\". If the number is divisible by both 3 and 5, the function returns \"FizzBuzz\". Otherwise, the function returns the number itself.\n",
    "Examples\n",
    "FizzBuzz(45) returns \"FizzBuzz\"\n",
    "FizzBuzz(9) returns \"Fizz\"\n",
    "FizzBuzz(25) returns \"Buzz\"\n",
    "FizzBuzz(17) returns \"17\"\"\"\"\n",
    "\n",
    "def FizzBuzz(number):\n",
    "    if number%3==0 and number%5!=0:\n",
    "        return 'Fizz'\n",
    "    if number%5==0 and number%3!=0:\n",
    "        return 'Buzz'\n",
    "    if number%5==0 and number%3==0:\n",
    "        return 'FizzBuzz'\n",
    "    else:\n",
    "        return number\n",
    "FizzBuzz(45), FizzBuzz(9), FizzBuzz(25), FizzBuzz(17)"
   ]
  },
  {
   "cell_type": "code",
   "execution_count": 12,
   "metadata": {},
   "outputs": [
    {
     "data": {
      "text/plain": [
       "(4, 4, 8, 1)"
      ]
     },
     "execution_count": 12,
     "metadata": {},
     "output_type": "execute_result"
    }
   ],
   "source": [
    "\"\"\"5 Square Root\n",
    "Description\n",
    "Build a function sqrt to calculate the square root of a positive integer number. If the result is not a integer, the function returns the nearest integer to the left of the result number.\n",
    "Examples\n",
    "sqrt(16) returns 4\n",
    "sqrt(17) returns 4\n",
    "sqrt(77) returns 8\n",
    "sqrt(1) returns 1\"\"\"\n",
    "\n",
    "def sqrt (number):\n",
    "    return int(number**0.5)\n",
    "sqrt(16),sqrt(17),sqrt(77),sqrt(1)\n"
   ]
  },
  {
   "cell_type": "code",
   "execution_count": 13,
   "metadata": {},
   "outputs": [
    {
     "data": {
      "text/plain": [
       "[1, 2, 3, 4, 5]"
      ]
     },
     "execution_count": 13,
     "metadata": {},
     "output_type": "execute_result"
    }
   ],
   "source": [
    "'''6 List Comprehension\n",
    "Description\n",
    "Build a function LstComp which takes two integers (i and j) as inputs and returns a list of numbers from i to j.\n",
    "Examples\n",
    "LstComp(1, 5) returns [1, 2, 3, 4, 5]'''\n",
    "\n",
    "def LstComp(number1, number2):\n",
    "    return [i for i in range (number1, number2+1)]\n",
    "LstComp(1, 5)"
   ]
  },
  {
   "cell_type": "code",
   "execution_count": 14,
   "metadata": {},
   "outputs": [
    {
     "data": {
      "text/plain": [
       "([1, 3, 5], [3, 5], [1])"
      ]
     },
     "execution_count": 14,
     "metadata": {},
     "output_type": "execute_result"
    }
   ],
   "source": [
    "\"\"\"7 Build a function OddNums which takes two integers (i and j) as inputs and returns a list of ODD numbers between i and j inclusively.\n",
    "Examples\n",
    "OddNums(1, 5) returns [1, 3, 5]\n",
    "OddNums(2, 6) returns [3, 5]\n",
    "OddNums(1, 2) returns [1]\"\"\"\n",
    "\n",
    "def OddNums(number1, number2):\n",
    "    return [i for i in range (number1, number2+1) if i%2==1]\n",
    "OddNums(1, 5), OddNums(2, 6), OddNums(1, 2)"
   ]
  },
  {
   "cell_type": "code",
   "execution_count": 15,
   "metadata": {},
   "outputs": [
    {
     "data": {
      "text/plain": [
       "[32.0, 100.4]"
      ]
     },
     "execution_count": 15,
     "metadata": {},
     "output_type": "execute_result"
    }
   ],
   "source": [
    "'''8 C2F\n",
    "Description\n",
    "Build a function C2F which converts a list of temperatures in degrees from Celsius to Fahrenheit. F=C*1.8+32.\n",
    "Examples\n",
    "C2F([0, 38]) returns [32.0, 100.4] '''\n",
    "\n",
    "def C2F(lista):\n",
    "    return [(i*1.8+32) for i in lista]\n",
    "C2F([0, 38])\n",
    "    "
   ]
  },
  {
   "cell_type": "code",
   "execution_count": 38,
   "metadata": {},
   "outputs": [
    {
     "data": {
      "text/plain": [
       "([1], [0, 1, 1], [0, 1, 1, 2, 3, 5], [-1])"
      ]
     },
     "execution_count": 38,
     "metadata": {},
     "output_type": "execute_result"
    }
   ],
   "source": [
    "'''9 Fibonacci List\n",
    "Description\n",
    "The Fibonacci List is the list of numbers: 0, 1, 1, 2, 3, 5, 8, 13, 21, 34, … The next number is generated by adding up the two numbers before it. Build a function FibLst which takes an integer n as input and returns an n-element Fibonacci List. If n is less than 1, returns -1.\n",
    "Examples\n",
    "FibLst(1) returns [0]\n",
    "FibLst(3) returns [0, 1, 1]\n",
    "FibLst(6) returns [0, 1, 1, 2, 3, 5]\n",
    "FibLst(-3) returns -1\n",
    "'''\n",
    "def FibLst (number):\n",
    "    if number<1:\n",
    "        return [-1]\n",
    "    if number==1:\n",
    "        return [1]\n",
    "    if number==2:\n",
    "        return [0,1]\n",
    "    else:\n",
    "        fiblst=[0,1]\n",
    "        for i in range (2,number):\n",
    "            fiblst.append(fiblst[i-1]+fiblst[i-2])\n",
    "        return fiblst\n",
    "FibLst(1), FibLst(3), FibLst(6), FibLst(-3)\n",
    "# Following writting will run into error 'index out of range', since FIBLST[i] is not assigned yet before appending the value\n",
    "# fiblst[i]=fiblst[i-1]+fiblst[i-2]  fiblst.append(fiblst[i])"
   ]
  },
  {
   "cell_type": "code",
   "execution_count": 46,
   "metadata": {},
   "outputs": [
    {
     "data": {
      "text/plain": [
       "([4, 8, 9, 1, 3], [4, 8, 9, 1, 0])"
      ]
     },
     "execution_count": 46,
     "metadata": {},
     "output_type": "execute_result"
    }
   ],
   "source": [
    "'''10 Reverse List\n",
    "Description\n",
    "Build a function RevLst which reverses a list.\n",
    "Examples\n",
    "RevLst([3, 1, 9, 8, 4]) returns [4, 8, 9, 1, 3] '''\n",
    "\n",
    "def RevLst(lista):\n",
    "    return lista[::-1]\n",
    "def RevLst1(lista1):\n",
    "    lista1.reverse()\n",
    "    return lista1\n",
    "RevLst([3, 1, 9, 8, 4]), RevLst1([0, 1, 9, 8, 4])"
   ]
  },
  {
   "cell_type": "code",
   "execution_count": 48,
   "metadata": {},
   "outputs": [
    {
     "data": {
      "text/plain": [
       "(True, False)"
      ]
     },
     "execution_count": 48,
     "metadata": {},
     "output_type": "execute_result"
    }
   ],
   "source": [
    "\"\"\"11 Whether an Element in the List\n",
    "Description\n",
    "Build a function IsIn to tell whether a target element in a list.\n",
    "Examples\n",
    "IsIn([1, 2, 3, 4, 5], 2) returns True\n",
    "IsIn([1, 2, 3, 4, 5], 6) returns False\"\"\"\n",
    "\n",
    "def IsIn (lista, number):\n",
    "    return number in lista\n",
    "IsIn([1, 2, 3, 4, 5], 2), IsIn([1, 2, 3, 4, 5], 6)\n",
    "    "
   ]
  },
  {
   "cell_type": "code",
   "execution_count": 51,
   "metadata": {},
   "outputs": [
    {
     "data": {
      "text/plain": [
       "([1, 3, 4, 5], [1, 2, 3, 4, 5], [1, 2, 3, 4, 5])"
      ]
     },
     "execution_count": 51,
     "metadata": {},
     "output_type": "execute_result"
    }
   ],
   "source": [
    "\"\"\"12 Remove an Element\n",
    "Description\n",
    "Build a function RmEl to remove a target element from a list. If the target element appears in the list for multiple times, only remove the first one.\n",
    "Examples\n",
    "RmEl([1, 2, 3, 4, 5], 2) returns [1, 3, 4, 5]\n",
    "RmEl([1, 2, 3, 4, 5], 6) returns [1, 2, 3, 4, 5]\n",
    "RmEl([1, 2, 3, 3, 4, 5], 3) returns [1, 2, 3, 4, 5]\"\"\"\n",
    "\n",
    "def RmEl (lista, target):\n",
    "    if target in lista:\n",
    "        lista.remove(target)\n",
    "        return lista\n",
    "    else:\n",
    "        return lista\n",
    "RmEl([1, 2, 3, 4, 5], 2),RmEl([1, 2, 3, 4, 5], 6), RmEl([1, 2, 3, 3, 4, 5], 3)\n",
    "# 'remove' modifies inplace and only remove the first duplicate "
   ]
  },
  {
   "cell_type": "code",
   "execution_count": 65,
   "metadata": {},
   "outputs": [
    {
     "name": "stdout",
     "output_type": "stream",
     "text": [
      "[2, 4, 6, 1, 3, 5] [1, 3, 5] [2, 4, 6]\n",
      "[3, 1, 5]\n"
     ]
    }
   ],
   "source": [
    "\"\"\"13 Separate Numbers\n",
    "Description\n",
    "Build a function SepNum which extracts the odd numbers from a given list and append the odd numbers at the end of the list.\n",
    "Examples\n",
    "SepNum([1, 2, 3, 4, 5, 6]) returns [2, 4, 6, 1, 3, 5]\n",
    "SepNum([1, 3, 5]) returns [1, 3, 5]\n",
    "SepNum([2, 4, 6]) returns [2, 4, 6]\"\"\"\n",
    "\n",
    "def SepNum(lista):\n",
    "    odd=[]\n",
    "    even=[]\n",
    "    for i in lista:\n",
    "        if i%2==1:\n",
    "            odd.append(i)\n",
    "        else:\n",
    "            even.append(i)\n",
    "    return even+odd\n",
    "print (SepNum([1, 2, 3, 4, 5, 6]),SepNum([1, 3, 5]),SepNum([2, 4, 6]))\n",
    "# following writting is not right. 'for' itterates each element of lista in order, after 'remove', lista is modified, resulting in missed itteration for some elements.\n",
    "def SepNum1(lista):\n",
    "    odd=[]\n",
    "    for i in lista:\n",
    "        if i%2==1:\n",
    "            lista.remove(i)\n",
    "            odd.append(i)\n",
    "    return lista+odd\n",
    "print (SepNum1([1, 3, 5]))\n",
    "    "
   ]
  },
  {
   "cell_type": "code",
   "execution_count": 66,
   "metadata": {},
   "outputs": [
    {
     "data": {
      "text/plain": [
       "([1, 2, 3, 4, 5, 6], [1, 3, 5])"
      ]
     },
     "execution_count": 66,
     "metadata": {},
     "output_type": "execute_result"
    }
   ],
   "source": [
    "\"\"\"14 Build a function RmDuplicate which remove all the duplicates from a list.\n",
    "Examples\n",
    "RmDuplicate([3, 1, 2, 3, 4, 5, 6]) returns [1, 2, 3, 4, 5, 6]\n",
    "RmDuplicate([1, 3, 5]) returns [1, 3, 5]\"\"\"\n",
    "\n",
    "def RmDuplicate(lista):\n",
    "    return list(set(lista))\n",
    "RmDuplicate([3, 1, 2, 3, 4, 5, 6]),RmDuplicate([1, 3, 5])"
   ]
  },
  {
   "cell_type": "code",
   "execution_count": 67,
   "metadata": {},
   "outputs": [
    {
     "name": "stdout",
     "output_type": "stream",
     "text": [
      "[1, 2, 3, 4, 4, 5] [1, 3, 5]\n",
      "[1, 2, 3, 4, 4, 5] [1, 3, 5]\n"
     ]
    }
   ],
   "source": [
    "\"\"\"15 Sort a List\n",
    "Description\n",
    "Build a function SortLst which sorts a list. At this time you can just use the built-in function in Python.\n",
    "Examples\n",
    "SortLst([4, 2, 1, 3, 4, 5]) returns [1, 2, 3, 4, 4, 5]\n",
    "SortLst([1, 3, 5]) returns [1, 3, 5]\"\"\"\n",
    "\n",
    "def SortLst (lista):\n",
    "    lista.sort()\n",
    "    return lista\n",
    "print(SortLst([4, 2, 1, 3, 4, 5]), SortLst([1, 3, 5]))\n",
    "def SortLst1 (lista):\n",
    "    listb=lista.sorted()\n",
    "    return listb\n",
    "print(SortLst([4, 2, 1, 3, 4, 5]), SortLst([1, 3, 5]))"
   ]
  },
  {
   "cell_type": "code",
   "execution_count": 88,
   "metadata": {},
   "outputs": [
    {
     "name": "stdout",
     "output_type": "stream",
     "text": [
      "[1, 2, 3, 3, 4, 5, 6] [1, 2, 3, 4, 5, 6, 7] [-1, 1, 2, 3, 4, 5, 6]\n",
      "[1, 2, 3, 3, 4, 5, 6] [1, 2, 3, 4, 5, 6, 7] [-1, 1, 2, 3, 4, 5, 6]\n"
     ]
    }
   ],
   "source": [
    "\"\"\"16 Insert a Number in a Sorted List\n",
    "Description\n",
    "Build a function NumInsert which inserts a number in a sorted list.\n",
    "Examples\n",
    "NumInsert([1, 2, 3, 4, 5, 6], 3) returns [1, 2, 3, 3, 4, 5, 6]\n",
    "NumInsert([1, 2, 3, 4, 5, 6], 7) returns [1, 2, 3, 4, 5, 6, 7]\n",
    "NumInsert([1, 2, 3, 4, 5, 6], -1) returns [-1, 1, 2, 3, 4, 5, 6]\"\"\"\n",
    "\n",
    "def NumInsert(lista, number):\n",
    "    lista.append(number)\n",
    "    lista.sort()\n",
    "    return lista\n",
    "print(NumInsert([1, 2, 3, 4, 5, 6], 3), NumInsert([1, 2, 3, 4, 5, 6], 7), NumInsert([1, 2, 3, 4, 5, 6],-1))\n",
    "\n",
    "# If the list is not sorted yet,above solution is good , but if the list is huge and sorted, resort is wasty and expensive, better to use binary search.\n",
    "def NumInsert_bi(lista, target):\n",
    "    left_idx=0\n",
    "    right_idx=len(lista)\n",
    "    while right_idx-left_idx>1:\n",
    "        mid_idx=int((right_idx+left_idx)/2) \n",
    "        if lista[mid_idx]==target:\n",
    "           lista.insert(mid_idx, target)\n",
    "           return lista\n",
    "        elif lista[mid_idx]>target:\n",
    "            right_idx=mid_idx\n",
    "        else:\n",
    "            left_idx=mid_idx\n",
    "    if target <lista [mid_idx]:\n",
    "        lista.insert(left_idx, target)\n",
    "    else:\n",
    "        lista.insert(right_idx, target)\n",
    "    return lista\n",
    "print(NumInsert_bi([1, 2, 3, 4, 5, 6], 3), NumInsert_bi([1, 2, 3, 4, 5, 6], 7), NumInsert_bi([1, 2, 3, 4, 5, 6],-1))\n",
    "# int((right_idx+left_idx)/2) = right_idx+left_idx)//2\n",
    "# Better set right_idx=len(lista), rather than right_idx=len(lista)-1"
   ]
  },
  {
   "cell_type": "code",
   "execution_count": 90,
   "metadata": {},
   "outputs": [
    {
     "data": {
      "text/plain": [
       "([1, 2, 3, 4, 5, 6], [1, 2, 3, 4, 5, 6])"
      ]
     },
     "execution_count": 90,
     "metadata": {},
     "output_type": "execute_result"
    }
   ],
   "source": [
    "\"\"\"17 Remove duplicates from a sorted list\n",
    "Description\n",
    "Build a function SortRm which removes duplicate numbers in a sorted list.\n",
    "Examples\n",
    "SortRm([1, 2, 2, 3, 4, 4, 5, 6]) returns [1, 2, 3, 4, 5, 6]\n",
    "SortRm([1, 2, 3, 4, 5, 6]) returns [1, 2, 3, 4, 5, 6]\"\"\"\n",
    "\n",
    "def SortRm(lista):\n",
    "    return list(set(lista))\n",
    "print(SortRm([1, 2, 2, 3, 4, 4, 5, 6]), SortRm([1, 2, 3, 4, 5, 6]))\n",
    "    "
   ]
  },
  {
   "cell_type": "code",
   "execution_count": 91,
   "metadata": {},
   "outputs": [
    {
     "data": {
      "text/plain": [
       "([1, 2, 3, 4, 5, 6], [1, 2, 3, 4, 5, 6])"
      ]
     },
     "execution_count": 91,
     "metadata": {},
     "output_type": "execute_result"
    }
   ],
   "source": [
    "\"\"\"18 Merge Two Sorted Lists\n",
    "Description\n",
    "Build a function MergeSorted which merges two sorted lists as one sorted list.\n",
    "Examples\n",
    "MergeSorted([1, 3, 5], [2, 4, 6]) returns [1, 2, 3, 4, 5, 6]\n",
    "MergeSorted([1, 2, 3], [4, 5, 6]) returns [1, 2, 3, 4, 5, 6]\"\"\"\n",
    "\n",
    "def MergeSorted (lista, listb):\n",
    "    list_merge=lista+listb\n",
    "    list_merge.sort()\n",
    "    return list_merge\n",
    "MergeSorted([1, 3, 5], [2, 4, 6]), MergeSorted([1, 2, 3], [4, 5, 6])\n"
   ]
  },
  {
   "cell_type": "code",
   "execution_count": 93,
   "metadata": {},
   "outputs": [
    {
     "data": {
      "text/plain": [
       "(135, 1203)"
      ]
     },
     "execution_count": 93,
     "metadata": {},
     "output_type": "execute_result"
    }
   ],
   "source": [
    "\"\"\"19  List to Number\n",
    "Description\n",
    "Build a function Lst2Num which convert a number list into one number.\n",
    "Examples\n",
    "Lst2Num([1, 3, 5]) returns 135\n",
    "Lst2Num([0, 1, 2, 0, 3]) returns 1203\"\"\"\n",
    "\n",
    "def Lst2Num(lista):\n",
    "    num=0\n",
    "    for i in lista:\n",
    "        num=num*10+i\n",
    "    return num\n",
    "Lst2Num([1, 3, 5]), Lst2Num([0, 1, 2, 0, 3])\n"
   ]
  },
  {
   "cell_type": "code",
   "execution_count": 95,
   "metadata": {},
   "outputs": [
    {
     "data": {
      "text/plain": [
       "(6, 0)"
      ]
     },
     "execution_count": 95,
     "metadata": {},
     "output_type": "execute_result"
    }
   ],
   "source": [
    "\"\"\"20 Maximum Stock Gain 股票\n",
    "Description\n",
    "Build a function MaxGain to find the maximum you can gain by buying and selling stocks. The trock prices represented as a list of numbers. You need to buy stocks before you sell them.\n",
    "Examples\n",
    "MaxGain([3, 4, 1, 5, 7, 2]) returns 6 --Explanation: Buy stocks when the price is 1 and sell them when the price is 7.\n",
    "MaxGain([5, 4, 3, 2, 1]) returns 0\"\"\"\n",
    "\n",
    "def MaxGain(lista):\n",
    "    gain=0\n",
    "    min_price=lista[0]\n",
    "    for i in lista:\n",
    "        if i-min_price > gain:\n",
    "            gain=i-min_price\n",
    "        else:\n",
    "            min_price=i\n",
    "    return gain\n",
    "MaxGain([3, 4, 1, 5, 7, 2]), MaxGain([5, 4, 3, 2, 1])"
   ]
  },
  {
   "cell_type": "code",
   "execution_count": 102,
   "metadata": {},
   "outputs": [
    {
     "data": {
      "text/plain": [
       "[[3], [2, 4], [1, 3, 5], [9, 7]]"
      ]
     },
     "execution_count": 102,
     "metadata": {},
     "output_type": "execute_result"
    }
   ],
   "source": [
    "\"\"\"21 Sort List of Lists\n",
    "Description\n",
    "Build a function SortLL which sorts a list of lists by their last elements.\n",
    "Examples\n",
    "SortLL([[1, 3, 5], [2, 4], [9, 7], [3]]) returns [[3], [2, 4], [1, 3, 5], [9, 7]]\"\"\"\n",
    "\n",
    "def SortLL(lista):\n",
    "    lista.sort(key=lambda x: x[-1])\n",
    "    return lista\n",
    "SortLL([[1, 3, 5], [2, 4], [9, 7], [3]])"
   ]
  },
  {
   "cell_type": "code",
   "execution_count": 112,
   "metadata": {},
   "outputs": [
    {
     "data": {
      "text/plain": [
       "([[1], [1, 1], [1, 2, 1]],\n",
       " [[1], [1, 1], [1, 2, 1], [1, 3, 3, 1], [1, 4, 6, 4, 1]])"
      ]
     },
     "execution_count": 112,
     "metadata": {},
     "output_type": "execute_result"
    }
   ],
   "source": [
    "'''22.Pascals Triangle\n",
    "Description\n",
    "Build a function PascalsT which takes an integer n as an input and generate a n layer Pascals Triangle.\n",
    "Examples\n",
    "PascalsT(3) returns [[1], [1, 1], [1, 2, 1]]\n",
    "PascalsT(5) returns [[1], [1, 1], [1, 2, 1], [1, 3, 3, 1], [1, 4, 6, 4, 1]]'''\n",
    "\n",
    "def PascalsT(n):\n",
    "    if n==1:\n",
    "        return [[1]]\n",
    "    elif n==2:\n",
    "        return [[1], [1, 1]]\n",
    "    else:\n",
    "        previous_pascal=PascalsT(n-1)\n",
    "        last_layer_of_previous_pascal= previous_pascal[-1]\n",
    "        new_layer=[1]\n",
    "        for i in range (n-2):\n",
    "            new_layer.append(last_layer_of_previous_pascal[i]+last_layer_of_previous_pascal[i+1])\n",
    "        new_layer.append(1)\n",
    "        previous_pascal.append(new_layer)\n",
    "        return previous_pascal\n",
    "PascalsT(3), PascalsT(5)  "
   ]
  },
  {
   "cell_type": "code",
   "execution_count": 113,
   "metadata": {},
   "outputs": [
    {
     "data": {
      "text/plain": [
       "(True, True, True, True, False)"
      ]
     },
     "execution_count": 113,
     "metadata": {},
     "output_type": "execute_result"
    }
   ],
   "source": [
    "\"\"\"23 Palindrome \n",
    "# Description\n",
    "# Build a function isPalindrome which takes a string as an input and returns boolin value telling whether the string is a palindrome.\n",
    "# Examples\n",
    "# isPalindrome(\"abcba\") returns True\n",
    "# isPalindrome(\"abba\") returns True\n",
    "# isPalindrome(\"a\") returns True\n",
    "# isPalindrome(\"\") returns True\n",
    "# isPalindrome(\"abcd\") returns False\"\"\"\n",
    "\n",
    "def isPalindrome(str):\n",
    "    return str==str[::-1]\n",
    "isPalindrome(\"abcba\"), isPalindrome(\"abba\"), isPalindrome(\"a\"), isPalindrome(\"\"), isPalindrome(\"abcd\")\n",
    "    "
   ]
  },
  {
   "cell_type": "code",
   "execution_count": 116,
   "metadata": {},
   "outputs": [
    {
     "data": {
      "text/plain": [
       "(True, True, False, False)"
      ]
     },
     "execution_count": 116,
     "metadata": {},
     "output_type": "execute_result"
    }
   ],
   "source": [
    "'''24 Valid Parenthesis\n",
    "Build a function ValidParenthesis to determine the parenthesis in a string are valid.\n",
    "Examples\n",
    "ValidParenthesis(\"((()))()\") returns True\n",
    "ValidParenthesis(\"()()()\") returns True\n",
    "ValidParenthesis(\"()()()(\") returns False\n",
    "ValidParenthesis(\"((())))\") returns False'''\n",
    "\n",
    "def ValidParenthesis(str):\n",
    "    left=[]\n",
    "    right=[]\n",
    "    for i in str:\n",
    "        if i=='(':\n",
    "            left.append(i)\n",
    "        elif i==')':\n",
    "            right.append(i)\n",
    "    return len(left)==len(right)\n",
    "ValidParenthesis(\"((()))()\"),ValidParenthesis(\"()()()\"),ValidParenthesis(\"()()()(\"),ValidParenthesis(\"((())))\")"
   ]
  },
  {
   "cell_type": "code",
   "execution_count": 121,
   "metadata": {},
   "outputs": [
    {
     "data": {
      "text/plain": [
       "(['te', 'ec', 'ch', 'hl', 'le', 'en', 'nt'], 'abc', [], ['a', 'b', 'c'])"
      ]
     },
     "execution_count": 121,
     "metadata": {},
     "output_type": "execute_result"
    }
   ],
   "source": [
    "''' 25 N Grams\n",
    "Description\n",
    "Build a function NGram which takes a string s and an integer n as inputs, returns a list of n grams of s.\n",
    "Examples\n",
    "NGram(\"techlent\", 2) returns [\"te\", \"ec\", \"ch\", \"hl\", \"le\", \"en\", \"nt\"]\n",
    "NGram(\"abc\", 3) returns [\"abc\"]\n",
    "NGram(\"abc\", 4) returns [   ]\n",
    "NGram(\"abc\", 1) returns [\"a\", \"b\", \"c\"]'''\n",
    "\n",
    "def NGram(str, num):\n",
    "    if len(str)<num:\n",
    "        return []\n",
    "    elif len(str)==num:\n",
    "        return str\n",
    "    else:\n",
    "        b=[]\n",
    "        for i in range(len(str)-num+1):\n",
    "            b.append(str[i:(i+num)])\n",
    "        return b\n",
    "NGram(\"techlent\", 2), NGram(\"abc\", 3), NGram(\"abc\", 4), NGram(\"abc\", 1)"
   ]
  },
  {
   "cell_type": "code",
   "execution_count": 127,
   "metadata": {},
   "outputs": [
    {
     "data": {
      "text/plain": [
       "(True, False, False)"
      ]
     },
     "execution_count": 127,
     "metadata": {},
     "output_type": "execute_result"
    }
   ],
   "source": [
    "\"\"\"26 All red\n",
    "Description\n",
    "Build a function AllRed that takes a list of strings as input, returns a boolean indicating whether all the strings containing word \"red\".\n",
    "Examples\n",
    "AllRed([\"red hat\", \"a pair of red shoes\", \"three red apples\"]) returns True\n",
    "AllRed([\"red hat\", \"white shirt\", \"black eyes\"]) returns False\n",
    "AllRed([]) returns False\"\"\"\n",
    "\n",
    "def AllRed(lista):\n",
    "    if len(lista)==0:\n",
    "        return False\n",
    "    else:\n",
    "        for i in lista:\n",
    "            if 'red' not in i:\n",
    "                return False\n",
    "    return True\n",
    "AllRed([\"red hat\", \"a pair of red shoes\", \"three red apples\"]),AllRed([\"red hat\", \"white shirt\", \"black eyes\"]), AllRed([])"
   ]
  },
  {
   "cell_type": "code",
   "execution_count": 132,
   "metadata": {},
   "outputs": [
    {
     "data": {
      "text/plain": [
       "'dcba'"
      ]
     },
     "execution_count": 132,
     "metadata": {},
     "output_type": "execute_result"
    }
   ],
   "source": [
    "\"\"\"27 Reverse String\n",
    "Description\n",
    "Build a function RevStr to reverse a string.\n",
    "Examples\n",
    "RevStr(\"abcd\") returns \"dcba\" \"\"\"\n",
    "\n",
    "def RevStr(str):\n",
    "    return str[::-1]\n",
    "RevStr(\"abcd\")"
   ]
  },
  {
   "cell_type": "code",
   "execution_count": 136,
   "metadata": {},
   "outputs": [
    {
     "data": {
      "text/plain": [
       "'friends all are we'"
      ]
     },
     "execution_count": 136,
     "metadata": {},
     "output_type": "execute_result"
    }
   ],
   "source": [
    "'''28 Reverse Sentence\n",
    "Description\n",
    "Build a function RevSen to reverse a sentence.\n",
    "Examples\n",
    "RevSen(\"we are all friends\") returns \"friends all are we”'''\n",
    "\n",
    "def RevSen(sent):\n",
    "    words=sent.split(' ')[::-1]\n",
    "    new_sent=' '.join(words)\n",
    "    return new_sent\n",
    "RevSen(\"we are all friends\")"
   ]
  },
  {
   "cell_type": "code",
   "execution_count": 183,
   "metadata": {},
   "outputs": [
    {
     "data": {
      "text/plain": [
       "'ew era lla sdneirf'"
      ]
     },
     "execution_count": 183,
     "metadata": {},
     "output_type": "execute_result"
    }
   ],
   "source": [
    "'''29 Reverse Words\n",
    "Description\n",
    "Build a function RevWords to reverse each word of a sentence.\n",
    "Examples\n",
    "RevWords(\"we are all friends\") returns \"ew era lla sdneirf\" '''\n",
    "\n",
    "def RevWords (str):\n",
    "    words=str.split(' ')\n",
    "    new_str=[]\n",
    "    for i in words:\n",
    "        new_str.append(i[::-1])\n",
    "    return ' '.join(new_str)\n",
    "RevWords(\"we are all friends\")\n",
    "    "
   ]
  },
  {
   "cell_type": "code",
   "execution_count": 138,
   "metadata": {},
   "outputs": [
    {
     "data": {
      "text/plain": [
       "'He said that is great'"
      ]
     },
     "execution_count": 138,
     "metadata": {},
     "output_type": "execute_result"
    }
   ],
   "source": [
    "\"\"\"30 Remove Punctuations\n",
    "Description\n",
    "Build a function RmPunct to remove punctuations from a string.\n",
    "Examples\n",
    "RmPunct(\"He said, that is great!!\") returns \"He said that is great\" \"\"\"\n",
    "\n",
    "import string\n",
    "punctuations=string.punctuation\n",
    "def RmPunct(str):\n",
    "    new_str=''\n",
    "    for i in str:\n",
    "        if i not in punctuations:\n",
    "            new_str+=i\n",
    "    return new_str\n",
    "RmPunct(\"He said, that is great!!\")   \n",
    "    "
   ]
  },
  {
   "cell_type": "code",
   "execution_count": 149,
   "metadata": {},
   "outputs": [
    {
     "data": {
      "text/plain": [
       "(True, True, False)"
      ]
     },
     "execution_count": 149,
     "metadata": {},
     "output_type": "execute_result"
    }
   ],
   "source": [
    "'''31 Letter Palindrome\n",
    "Description\n",
    "Build a function LettPalind to determine a string is a palindrome or not. We only consider letters this time.\n",
    "Examples\n",
    "LettPalind(\"909@,.\") returns True\n",
    "LettPalind(\"He is Sieh!\") returns True\n",
    "LettPalind(\"His name is Sieh.\") returns False'''\n",
    "\n",
    "import string\n",
    "letters=string.ascii_lowercase\n",
    "def LettPalind(str):\n",
    "    str=str.lower()\n",
    "    new_str=''\n",
    "    for i in str:\n",
    "        if i in letters:\n",
    "            new_str+=i\n",
    "    return new_str[::-1]==new_str\n",
    "LettPalind(\"909@,.\"),LettPalind(\"He is Sieh!\"), LettPalind(\"His name is Sieh.\")\n"
   ]
  },
  {
   "cell_type": "code",
   "execution_count": 158,
   "metadata": {},
   "outputs": [
    {
     "data": {
      "text/plain": [
       "'We Are All Friends'"
      ]
     },
     "execution_count": 158,
     "metadata": {},
     "output_type": "execute_result"
    }
   ],
   "source": [
    "\"\"\"32 Capitalize First Letters\n",
    "Description\n",
    "Build a function CapLett to capitalize the first letter of each word in a sentence.\n",
    "Examples\n",
    "CapLett(\"we are all friends\") returns \"We Are All Friends\" \"\"\"\n",
    "\n",
    "def CapLett(sent):\n",
    "    words=sent.split(' ')\n",
    "    new_sent=''\n",
    "    for i in words:\n",
    "        i=i.capitalize()\n",
    "        if new_sent:\n",
    "            new_sent+=' '\n",
    "        new_sent+=i\n",
    "    return new_sent\n",
    "CapLett(\"we are all friends\")"
   ]
  },
  {
   "cell_type": "code",
   "execution_count": 167,
   "metadata": {},
   "outputs": [
    {
     "data": {
      "text/plain": [
       "{1: 'a', 2: 'b', 3: 'c'}"
      ]
     },
     "execution_count": 167,
     "metadata": {},
     "output_type": "execute_result"
    }
   ],
   "source": [
    "'''33 Exercise 2.3.1: Key Value Switch\n",
    "Build a function kvSwitch to switch the keys and values of a dictionary.\n",
    "Example: kvSwitch({\"a\": 1, \"b\": 2, \"c\": 3}) returns {1: \"a\", 2: \"b\", 3: \"c\"}'''\n",
    "\n",
    "def kvSwitch(dicta):\n",
    "    dictb={}\n",
    "    for k, v in dicta.items():\n",
    "        dictb[v]=k\n",
    "    return dictb\n",
    "kvSwitch({\"a\": 1, \"b\": 2, \"c\": 3})"
   ]
  },
  {
   "cell_type": "code",
   "execution_count": 169,
   "metadata": {},
   "outputs": [
    {
     "data": {
      "text/plain": [
       "['b', 'a', 'c']"
      ]
     },
     "execution_count": 169,
     "metadata": {},
     "output_type": "execute_result"
    }
   ],
   "source": [
    "'''34  Rank Keys by Values\n",
    "Build a function RankK which takes a dictionary as input returns a list of keys which sorted by their values.\n",
    "Example: RankK({\"a\": 7, \"b\": 5, \"c\": 9}) returns [\"b\", \"a\", \"c\"]'''\n",
    "\n",
    "def RankK(dicta):\n",
    "    items=sorted(dicta.items(), key=lambda x: x[-1])\n",
    "    keys=[]\n",
    "    for i in items:\n",
    "        keys.append(i[0])  \n",
    "    return keys\n",
    "RankK({\"a\": 7, \"b\": 5, \"c\": 9})"
   ]
  },
  {
   "cell_type": "code",
   "execution_count": 170,
   "metadata": {},
   "outputs": [
    {
     "data": {
      "text/plain": [
       "{'c': 2, 'o': 2, 'm': 2, 'u': 1, 'n': 2, 'i': 2, 'a': 1, 't': 1}"
      ]
     },
     "execution_count": 170,
     "metadata": {},
     "output_type": "execute_result"
    }
   ],
   "source": [
    "'''35 Character Frequency\n",
    "Build a function ChaFreq to calculate the frequencies of characters in a string. Store the results in a dictionary.\n",
    "Example: ChaFreq(\"communication\") returns {'c': 2, 'o': 2, 'm': 2, 'u': 1, 'n': 2, 'i': 2, 'a': 1, 't': 1}'''\n",
    "\n",
    "def ChaFreq(str):\n",
    "    count={}\n",
    "    for i in str:\n",
    "        if i in count:\n",
    "            count[i]+=1\n",
    "        else:\n",
    "            count[i]=1\n",
    "    return count\n",
    "ChaFreq(\"communication\")"
   ]
  },
  {
   "cell_type": "code",
   "execution_count": 171,
   "metadata": {},
   "outputs": [
    {
     "data": {
      "text/plain": [
       "(False, True)"
      ]
     },
     "execution_count": 171,
     "metadata": {},
     "output_type": "execute_result"
    }
   ],
   "source": [
    "\"\"\"36 Unique Only\n",
    "Build a function UniqueOnly to detect whether a string only contains unique characters.\n",
    "Example: UniqueOnly(\"communication\") returns False\n",
    "Example: UniqueOnly(\"abcde\") returns True\"\"\"\n",
    "\n",
    "def UniqueOnly(str):\n",
    "    return len(str)==len(set(str))\n",
    "UniqueOnly(\"communication\"), UniqueOnly(\"abcde\")"
   ]
  },
  {
   "cell_type": "code",
   "execution_count": 185,
   "metadata": {},
   "outputs": [
    {
     "data": {
      "text/plain": [
       "(True, False, False, False, False)"
      ]
     },
     "execution_count": 185,
     "metadata": {},
     "output_type": "execute_result"
    }
   ],
   "source": [
    "'''37 Build a function SamePattern takes two strings as inputs and determines whether they are in the same pattern.\n",
    "Example: SamePattern('egg', 'zoo') returns True\n",
    "Example: SamePattern('abb', 'ab') returns False\n",
    "Example: SamePattern('hello', 'agree') returns False\n",
    "Example: SamePattern('aaa', 'abc') returns False\n",
    "Example: SamePattern('abc', 'aaa') returns False'''\n",
    "\n",
    "def SamePattern(s1, s2):\n",
    "    if len(s1) != len(s2):\n",
    "        return False\n",
    "    d1 = {}\n",
    "    d2 = {}\n",
    "    for i in range(len(s1)):\n",
    "        if s1[i] in d1:\n",
    "            if d1[s1[i]] != s2[i]:\n",
    "                return False\n",
    "        else:\n",
    "            d1[s1[i]] = s2[i]\n",
    "            \n",
    "        if s2[i] in d2:\n",
    "            if d2[s2[i]] != s1[i]:\n",
    "                return False\n",
    "        else:\n",
    "            d2[s2[i]] = s1[i]\n",
    "    return True\n",
    "SamePattern('egg', 'zoo'), SamePattern('abb', 'ab'), SamePattern('hello', 'agree'), SamePattern('aaa', 'abc'), SamePattern('abc', 'aaa')"
   ]
  },
  {
   "cell_type": "code",
   "execution_count": 175,
   "metadata": {},
   "outputs": [
    {
     "data": {
      "text/plain": [
       "(True, False, False, True)"
      ]
     },
     "execution_count": 175,
     "metadata": {},
     "output_type": "execute_result"
    }
   ],
   "source": [
    "'''38 Anagrams\n",
    "Build a function anagrams to determine whether two given strings are anagrams.\n",
    "Example: anagrams('abc', 'cba') returns True\n",
    "Example: anagrams('ab', 'abc') returns False\n",
    "Example: anagrams('abccba', 'aabbbc') returns False\n",
    "Example: anagrams('abccba', 'aabbcc') returns True'''\n",
    "\n",
    "def anagrams(str1, str2):\n",
    "    return sorted(str1)==sorted(str2)\n",
    "anagrams('abc', 'cba'), anagrams('ab', 'abc'), anagrams('abccba', 'aabbbc'), anagrams('abccba', 'aabbcc') "
   ]
  },
  {
   "cell_type": "code",
   "execution_count": 178,
   "metadata": {},
   "outputs": [
    {
     "data": {
      "text/plain": [
       "((0, 2), (1, 3), -1, (2, 3))"
      ]
     },
     "execution_count": 178,
     "metadata": {},
     "output_type": "execute_result"
    }
   ],
   "source": [
    "'''39 two sum\n",
    "Build a function TargetSum which takes a list and a target number as inputs. If there are two numbers in the list whose sum equals to the target number, the function returns the indice of the two numbers, otherwise returns -1.\n",
    "Example: TargetSum([1, 2, 5, 9, 8, 11], 6) returns 0, 2 [1+5=6]\n",
    "Example: TargetSum([1, 2, 5, 9, 8, 11], 11) returns 1, 3\n",
    "Example: TargetSum([1, 2, 5, 9, 8, 11], 5) returns -1\n",
    "Example: TargetSum([1, 2, 5, 9, 8, 11], 14) returns [2, 3]'''\n",
    "\n",
    "def TargetSum(lista, target):\n",
    "    for idx,val in enumerate (lista):\n",
    "        x=target-val\n",
    "        if x in lista:\n",
    "            return idx, lista.index(x)\n",
    "    return -1\n",
    "\n",
    "TargetSum([1, 2, 5, 9, 8, 11], 6), TargetSum([1, 2, 5, 9, 8, 11], 11), TargetSum([1, 2, 5, 9, 8, 11], 5), TargetSum([1, 2, 5, 9, 8, 11], 14)"
   ]
  }
 ],
 "metadata": {
  "kernelspec": {
   "display_name": "base",
   "language": "python",
   "name": "python3"
  },
  "language_info": {
   "codemirror_mode": {
    "name": "ipython",
    "version": 3
   },
   "file_extension": ".py",
   "mimetype": "text/x-python",
   "name": "python",
   "nbconvert_exporter": "python",
   "pygments_lexer": "ipython3",
   "version": "3.11.4"
  }
 },
 "nbformat": 4,
 "nbformat_minor": 2
}
